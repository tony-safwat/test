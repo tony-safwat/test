{
 "cells": [
  {
   "cell_type": "markdown",
   "id": "55725f05",
   "metadata": {},
   "source": [
    "# CSV"
   ]
  },
  {
   "cell_type": "code",
   "execution_count": null,
   "id": "15dbedad",
   "metadata": {},
   "outputs": [],
   "source": [
    "pip install pandas\n",
    "import pandas as pd\n",
    "v=pd.read_csv(r\"C:\\Users\\2041\\Desktop\\emp.csv\")\n",
    "print(v)"
   ]
  },
  {
   "cell_type": "markdown",
   "id": "b06b34ed",
   "metadata": {},
   "source": [
    "# XLSX"
   ]
  },
  {
   "cell_type": "code",
   "execution_count": null,
   "id": "2eaa5a60",
   "metadata": {},
   "outputs": [],
   "source": [
    "!pip install pandas\n",
    "!pip install xlrd\n",
    "import pandas as pd\n",
    "v=pd.read_excel(r\"C:\\Users\\2041\\Desktop\\emp.xlsx\")\n",
    "print(v)"
   ]
  },
  {
   "cell_type": "markdown",
   "id": "5c40099b",
   "metadata": {},
   "source": [
    "# txt"
   ]
  },
  {
   "cell_type": "code",
   "execution_count": 1,
   "id": "149bea92",
   "metadata": {},
   "outputs": [
    {
     "name": "stdout",
     "output_type": "stream",
     "text": [
      "The text file can also be opened by Python. As shown in figure (25), to open the file, use the \n",
      "\n"
     ]
    }
   ],
   "source": [
    "f = open(r\"C:\\Users\\2041\\Desktop\\text.txt\",\"r\")\n",
    "print(f.read())\n",
    "print(f.readline())\n",
    "for x in f :\n",
    "    print(x)"
   ]
  },
  {
   "cell_type": "markdown",
   "id": "684cd324",
   "metadata": {},
   "source": [
    "# json"
   ]
  },
  {
   "cell_type": "code",
   "execution_count": null,
   "id": "d2911ce1",
   "metadata": {},
   "outputs": [],
   "source": [
    "import json\n",
    "with open(r\"C:\\Users\\2041\\Desktop\\json.json\") as json_file:\n",
    "    data = json.load(json_file)\n",
    "    print(data['quiz']['maths'])"
   ]
  },
  {
   "cell_type": "markdown",
   "id": "01d80b32",
   "metadata": {},
   "source": [
    "# html"
   ]
  },
  {
   "cell_type": "code",
   "execution_count": null,
   "id": "8998609a",
   "metadata": {},
   "outputs": [],
   "source": [
    "import codecs\n",
    "from bs4 import BeautifulSoup\n",
    "f = codecs.open(r\"C:\\Users\\2041\\Desktop\\html.html\",'r')\n",
    "doc = BeautifulSoup(f.read()).get_text()\n",
    "print(doc)"
   ]
  },
  {
   "cell_type": "code",
   "execution_count": null,
   "id": "d24fe9fd",
   "metadata": {},
   "outputs": [],
   "source": [
    "import codecs\n",
    "from bs4 import BeautifulSoup\n",
    "f = codecs.open(r\"C:\\Users\\2041\\Desktop\\html.html\",'r')\n",
    "soup = BeautifulSoup(f, 'html.parser')\n",
    "print(soup.find('h1'))"
   ]
  },
  {
   "cell_type": "markdown",
   "id": "944a659b",
   "metadata": {},
   "source": [
    "# XML"
   ]
  },
  {
   "cell_type": "code",
   "execution_count": 10,
   "id": "767e0227",
   "metadata": {},
   "outputs": [
    {
     "name": "stdout",
     "output_type": "stream",
     "text": [
      "\n",
      "Introduction of Geeksforgeeks V1\n",
      "Gfg\n",
      "6.99\n",
      "\n"
     ]
    }
   ],
   "source": [
    "from bs4 import BeautifulSoup\n",
    "# reading content\n",
    "file = open(r\"C:\\Users\\2041\\Desktop\\xml.xml\", \"r\")\n",
    "contents = file.read()\n",
    "soup = BeautifulSoup(contents, 'xml')\n",
    "print(soup.find('book').get_text())"
   ]
  },
  {
   "cell_type": "markdown",
   "id": "40d9a297",
   "metadata": {},
   "source": [
    "# PDF"
   ]
  },
  {
   "cell_type": "code",
   "execution_count": null,
   "id": "672d6173",
   "metadata": {},
   "outputs": [],
   "source": [
    "!pip install PyPDF2\n",
    "import PyPDF2\n",
    "sample_pdf = open(r'C:\\Users\\2041\\Desktop\\data.pdf','rb')\n",
    "pdfdoc = PyPDF2.PdfReader(sample_pdf)\n",
    "print(len(pdfdoc.pages))"
   ]
  },
  {
   "cell_type": "code",
   "execution_count": null,
   "id": "dc1cf484",
   "metadata": {},
   "outputs": [],
   "source": [
    "!pip install PyPDF2\n",
    "import PyPDF2\n",
    "sample_pdf = open(r'C:\\Users\\2041\\Desktop\\data.pdf','rb')\n",
    "pdfdoc = PyPDF2.PdfReader(sample_pdf)\n",
    "print(pdfdoc.pages[15])"
   ]
  },
  {
   "cell_type": "code",
   "execution_count": null,
   "id": "ed076e59",
   "metadata": {},
   "outputs": [],
   "source": [
    "!pip install PyPDF2\n",
    "import PyPDF2\n",
    "sample_pdf = open(r'C:\\Users\\2041\\Desktop\\data.pdf','rb')\n",
    "pdfdoc = PyPDF2.PdfReader(sample_pdf)\n",
    "print(pdfdoc.pages[16].extract_text())"
   ]
  },
  {
   "cell_type": "markdown",
   "id": "c3944614",
   "metadata": {},
   "source": [
    "# String Manipulation"
   ]
  },
  {
   "cell_type": "code",
   "execution_count": 14,
   "id": "b5184ac5",
   "metadata": {},
   "outputs": [
    {
     "name": "stdout",
     "output_type": "stream",
     "text": [
      "yousef\n"
     ]
    }
   ],
   "source": [
    "x = \"Yousef\"\n",
    "print(x.casefold())"
   ]
  },
  {
   "cell_type": "code",
   "execution_count": 25,
   "id": "d1eff11c",
   "metadata": {},
   "outputs": [
    {
     "name": "stdout",
     "output_type": "stream",
     "text": [
      "----Yousef----\n"
     ]
    }
   ],
   "source": [
    "print(x.center(14,\"-\"))"
   ]
  },
  {
   "cell_type": "code",
   "execution_count": 29,
   "id": "ed3c5bc0",
   "metadata": {},
   "outputs": [
    {
     "name": "stdout",
     "output_type": "stream",
     "text": [
      "1\n"
     ]
    }
   ],
   "source": [
    "print(x.count(\"Y\"))"
   ]
  },
  {
   "cell_type": "code",
   "execution_count": 30,
   "id": "9a1bdc22",
   "metadata": {},
   "outputs": [
    {
     "name": "stdout",
     "output_type": "stream",
     "text": [
      "b'Yousef'\n"
     ]
    }
   ],
   "source": [
    "print(x.encode())"
   ]
  },
  {
   "cell_type": "code",
   "execution_count": null,
   "id": "ba403193",
   "metadata": {},
   "outputs": [],
   "source": []
  }
 ],
 "metadata": {
  "kernelspec": {
   "display_name": "Python 3 (ipykernel)",
   "language": "python",
   "name": "python3"
  },
  "language_info": {
   "codemirror_mode": {
    "name": "ipython",
    "version": 3
   },
   "file_extension": ".py",
   "mimetype": "text/x-python",
   "name": "python",
   "nbconvert_exporter": "python",
   "pygments_lexer": "ipython3",
   "version": "3.11.4"
  }
 },
 "nbformat": 4,
 "nbformat_minor": 5
}
